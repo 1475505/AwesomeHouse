{
 "cells": [
  {
   "cell_type": "markdown",
   "metadata": {},
   "source": [
    "# 数据科学导论大作业AwesomeLoan by archester-250,1475505"
   ]
  },
  {
   "cell_type": "markdown",
   "metadata": {},
   "source": [
    "## 第一部分：数据预处理"
   ]
  },
  {
   "cell_type": "code",
   "execution_count": 2,
   "metadata": {},
   "outputs": [],
   "source": [
    "# 导库\n",
    "import numpy as np\n",
    "import pandas as pd"
   ]
  },
  {
   "cell_type": "code",
   "execution_count": 3,
   "metadata": {},
   "outputs": [
    {
     "name": "stdout",
     "output_type": "stream",
     "text": [
      "Id                   False\n",
      "Income                True\n",
      "Age                  False\n",
      "Experience           False\n",
      "Married/Single       False\n",
      "House_Ownership      False\n",
      "Car_Ownership        False\n",
      "Profession           False\n",
      "CITY                 False\n",
      "STATE                False\n",
      "CURRENT_JOB_YRS      False\n",
      "CURRENT_HOUSE_YRS    False\n",
      "Risk_Flag            False\n",
      "dtype: bool\n"
     ]
    }
   ],
   "source": [
    "# 导入数据库\n",
    "df = pd.read_csv('train-data.csv', index_col = None)\n",
    "print(df.isnull().any())\n",
    "x_train = df.iloc[:, 0 : df.shape[1] - 2].values\n",
    "y_train = df.iloc[:, df.shape[1] - 1].values\n"
   ]
  },
  {
   "cell_type": "markdown",
   "metadata": {},
   "source": [
    "## 第二部分：数据探索"
   ]
  },
  {
   "cell_type": "code",
   "execution_count": 9,
   "metadata": {},
   "outputs": [
    {
     "data": {
      "text/html": [
       "<div>\n",
       "<style scoped>\n",
       "    .dataframe tbody tr th:only-of-type {\n",
       "        vertical-align: middle;\n",
       "    }\n",
       "\n",
       "    .dataframe tbody tr th {\n",
       "        vertical-align: top;\n",
       "    }\n",
       "\n",
       "    .dataframe thead th {\n",
       "        text-align: right;\n",
       "    }\n",
       "</style>\n",
       "<table border=\"1\" class=\"dataframe\">\n",
       "  <thead>\n",
       "    <tr style=\"text-align: right;\">\n",
       "      <th></th>\n",
       "      <th>Id</th>\n",
       "      <th>Income</th>\n",
       "      <th>Age</th>\n",
       "      <th>Experience</th>\n",
       "      <th>CURRENT_JOB_YRS</th>\n",
       "      <th>CURRENT_HOUSE_YRS</th>\n",
       "      <th>Risk_Flag</th>\n",
       "    </tr>\n",
       "  </thead>\n",
       "  <tbody>\n",
       "    <tr>\n",
       "      <th>count</th>\n",
       "      <td>201600.000000</td>\n",
       "      <td>1.912070e+05</td>\n",
       "      <td>201600.000000</td>\n",
       "      <td>201600.000000</td>\n",
       "      <td>201600.000000</td>\n",
       "      <td>201600.000000</td>\n",
       "      <td>201600.000000</td>\n",
       "    </tr>\n",
       "    <tr>\n",
       "      <th>mean</th>\n",
       "      <td>100799.500000</td>\n",
       "      <td>4.997339e+06</td>\n",
       "      <td>44.385208</td>\n",
       "      <td>10.085625</td>\n",
       "      <td>6.334072</td>\n",
       "      <td>11.995928</td>\n",
       "      <td>0.122778</td>\n",
       "    </tr>\n",
       "    <tr>\n",
       "      <th>std</th>\n",
       "      <td>58197.051472</td>\n",
       "      <td>2.881432e+06</td>\n",
       "      <td>22.491666</td>\n",
       "      <td>6.002003</td>\n",
       "      <td>3.644423</td>\n",
       "      <td>1.399482</td>\n",
       "      <td>0.328183</td>\n",
       "    </tr>\n",
       "    <tr>\n",
       "      <th>min</th>\n",
       "      <td>0.000000</td>\n",
       "      <td>1.031000e+04</td>\n",
       "      <td>0.000000</td>\n",
       "      <td>0.000000</td>\n",
       "      <td>0.000000</td>\n",
       "      <td>10.000000</td>\n",
       "      <td>0.000000</td>\n",
       "    </tr>\n",
       "    <tr>\n",
       "      <th>25%</th>\n",
       "      <td>50399.750000</td>\n",
       "      <td>2.499018e+06</td>\n",
       "      <td>29.000000</td>\n",
       "      <td>5.000000</td>\n",
       "      <td>3.000000</td>\n",
       "      <td>11.000000</td>\n",
       "      <td>0.000000</td>\n",
       "    </tr>\n",
       "    <tr>\n",
       "      <th>50%</th>\n",
       "      <td>100799.500000</td>\n",
       "      <td>5.000063e+06</td>\n",
       "      <td>46.000000</td>\n",
       "      <td>10.000000</td>\n",
       "      <td>6.000000</td>\n",
       "      <td>12.000000</td>\n",
       "      <td>0.000000</td>\n",
       "    </tr>\n",
       "    <tr>\n",
       "      <th>75%</th>\n",
       "      <td>151199.250000</td>\n",
       "      <td>7.480562e+06</td>\n",
       "      <td>63.000000</td>\n",
       "      <td>15.000000</td>\n",
       "      <td>9.000000</td>\n",
       "      <td>13.000000</td>\n",
       "      <td>0.000000</td>\n",
       "    </tr>\n",
       "    <tr>\n",
       "      <th>max</th>\n",
       "      <td>201599.000000</td>\n",
       "      <td>9.999938e+06</td>\n",
       "      <td>79.000000</td>\n",
       "      <td>20.000000</td>\n",
       "      <td>14.000000</td>\n",
       "      <td>14.000000</td>\n",
       "      <td>1.000000</td>\n",
       "    </tr>\n",
       "  </tbody>\n",
       "</table>\n",
       "</div>"
      ],
      "text/plain": [
       "                  Id        Income            Age     Experience  \\\n",
       "count  201600.000000  1.912070e+05  201600.000000  201600.000000   \n",
       "mean   100799.500000  4.997339e+06      44.385208      10.085625   \n",
       "std     58197.051472  2.881432e+06      22.491666       6.002003   \n",
       "min         0.000000  1.031000e+04       0.000000       0.000000   \n",
       "25%     50399.750000  2.499018e+06      29.000000       5.000000   \n",
       "50%    100799.500000  5.000063e+06      46.000000      10.000000   \n",
       "75%    151199.250000  7.480562e+06      63.000000      15.000000   \n",
       "max    201599.000000  9.999938e+06      79.000000      20.000000   \n",
       "\n",
       "       CURRENT_JOB_YRS  CURRENT_HOUSE_YRS      Risk_Flag  \n",
       "count    201600.000000      201600.000000  201600.000000  \n",
       "mean          6.334072          11.995928       0.122778  \n",
       "std           3.644423           1.399482       0.328183  \n",
       "min           0.000000          10.000000       0.000000  \n",
       "25%           3.000000          11.000000       0.000000  \n",
       "50%           6.000000          12.000000       0.000000  \n",
       "75%           9.000000          13.000000       0.000000  \n",
       "max          14.000000          14.000000       1.000000  "
      ]
     },
     "execution_count": 9,
     "metadata": {},
     "output_type": "execute_result"
    }
   ],
   "source": [
    "#我们先看看有什么属性和对应的特征。\n",
    "df.describe()"
   ]
  },
  {
   "cell_type": "code",
   "execution_count": 10,
   "metadata": {},
   "outputs": [
    {
     "name": "stdout",
     "output_type": "stream",
     "text": [
      "<class 'pandas.core.frame.DataFrame'>\n",
      "RangeIndex: 201600 entries, 0 to 201599\n",
      "Data columns (total 13 columns):\n",
      " #   Column             Non-Null Count   Dtype  \n",
      "---  ------             --------------   -----  \n",
      " 0   Id                 201600 non-null  int64  \n",
      " 1   Income             191207 non-null  float64\n",
      " 2   Age                201600 non-null  int64  \n",
      " 3   Experience         201600 non-null  int64  \n",
      " 4   Married/Single     201600 non-null  object \n",
      " 5   House_Ownership    201600 non-null  object \n",
      " 6   Car_Ownership      201600 non-null  object \n",
      " 7   Profession         201600 non-null  object \n",
      " 8   CITY               201600 non-null  object \n",
      " 9   STATE              201600 non-null  object \n",
      " 10  CURRENT_JOB_YRS    201600 non-null  int64  \n",
      " 11  CURRENT_HOUSE_YRS  201600 non-null  int64  \n",
      " 12  Risk_Flag          201600 non-null  int64  \n",
      "dtypes: float64(1), int64(6), object(6)\n",
      "memory usage: 20.0+ MB\n"
     ]
    }
   ],
   "source": [
    "# 这么看也是很不错的\n",
    "df.info()"
   ]
  },
  {
   "cell_type": "markdown",
   "metadata": {},
   "source": [
    "看，我们发现了什么？Income居然有空的情况，可能是不好意思写上去吧，这个时候有两种选择：\n",
    "- 用统计特征值代替\n",
    "- 直接丢弃对应的列\n",
    "选哪个呢？[TODO]"
   ]
  },
  {
   "cell_type": "code",
   "execution_count": 12,
   "metadata": {},
   "outputs": [
    {
     "data": {
      "text/plain": [
       "12    41478\n",
       "11    41386\n",
       "13    40495\n",
       "14    39138\n",
       "10    39103\n",
       "Name: CURRENT_HOUSE_YRS, dtype: int64"
      ]
     },
     "execution_count": 12,
     "metadata": {},
     "output_type": "execute_result"
    }
   ],
   "source": [
    "# 我们还可以看一些有关房子年龄的分类统计\n",
    "df['CURRENT_HOUSE_YRS'].value_counts().head(10)"
   ]
  },
  {
   "cell_type": "markdown",
   "metadata": {},
   "source": [
    "这么平均的吗"
   ]
  },
  {
   "cell_type": "code",
   "execution_count": null,
   "metadata": {},
   "outputs": [],
   "source": [
    "# 我们不妨可视化一下这些指标吧\n",
    "import seaborn as sns\n",
    "import matplotlib.pyplot as plt\n",
    "sns.countplot(x = \"\", data = df)"
   ]
  },
  {
   "cell_type": "markdown",
   "metadata": {},
   "source": [
    "## 第三部分：查看AUC"
   ]
  }
 ],
 "metadata": {
  "interpreter": {
   "hash": "99cb583f11c165a35c7447df78e6d95d7bcbdb5f44da77d36ff6b5e1114dd47b"
  },
  "kernelspec": {
   "display_name": "Python 3 (ipykernel)",
   "language": "python",
   "name": "python3"
  },
  "language_info": {
   "codemirror_mode": {
    "name": "ipython",
    "version": 3
   },
   "file_extension": ".py",
   "mimetype": "text/x-python",
   "name": "python",
   "nbconvert_exporter": "python",
   "pygments_lexer": "ipython3",
   "version": "3.10.2"
  }
 },
 "nbformat": 4,
 "nbformat_minor": 4
}
