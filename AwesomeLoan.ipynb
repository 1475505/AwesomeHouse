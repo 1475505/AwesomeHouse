{
 "cells": [
  {
   "cell_type": "markdown",
   "metadata": {},
   "source": [
    "# 数据科学导论大作业AwesomeLoan by archester-250,1475505"
   ]
  },
  {
   "cell_type": "markdown",
   "metadata": {},
   "source": [
    "## 第一部分：数据预处理"
   ]
  },
  {
   "cell_type": "code",
   "execution_count": 3,
   "metadata": {},
   "outputs": [],
   "source": [
    "# 导库\n",
    "import numpy as np\n",
    "import pandas as pd"
   ]
  },
  {
   "cell_type": "code",
   "execution_count": 15,
   "metadata": {},
   "outputs": [
    {
     "name": "stdout",
     "output_type": "stream",
     "text": [
      "Id                   False\n",
      "Income                True\n",
      "Age                  False\n",
      "Experience           False\n",
      "Married/Single       False\n",
      "House_Ownership      False\n",
      "Car_Ownership        False\n",
      "Profession           False\n",
      "CITY                 False\n",
      "STATE                False\n",
      "CURRENT_JOB_YRS      False\n",
      "CURRENT_HOUSE_YRS    False\n",
      "Risk_Flag            False\n",
      "dtype: bool\n"
     ]
    }
   ],
   "source": [
    "# 导入数据库\n",
    "df = pd.read_csv('train-data.csv', index_col = None)\n",
    "print(df.isnull().any())\n",
    "x_train = df.iloc[:, 0 : df.shape[1] - 2].values\n",
    "y_train = df.iloc[:, df.shape[1] - 1].values\n"
   ]
  },
  {
   "cell_type": "markdown",
   "metadata": {},
   "source": [
    "## 第二部分：数据探索"
   ]
  },
  {
   "cell_type": "code",
   "execution_count": null,
   "metadata": {},
   "outputs": [],
   "source": []
  },
  {
   "cell_type": "markdown",
   "metadata": {},
   "source": [
    "## 第三部分：查看AUC"
   ]
  }
 ],
 "metadata": {
  "interpreter": {
   "hash": "99cb583f11c165a35c7447df78e6d95d7bcbdb5f44da77d36ff6b5e1114dd47b"
  },
  "kernelspec": {
   "display_name": "Python 3.9.7 ('footbook')",
   "language": "python",
   "name": "python3"
  },
  "language_info": {
   "codemirror_mode": {
    "name": "ipython",
    "version": 3
   },
   "file_extension": ".py",
   "mimetype": "text/x-python",
   "name": "python",
   "nbconvert_exporter": "python",
   "pygments_lexer": "ipython3",
   "version": "3.9.7"
  },
  "orig_nbformat": 4
 },
 "nbformat": 4,
 "nbformat_minor": 2
}
